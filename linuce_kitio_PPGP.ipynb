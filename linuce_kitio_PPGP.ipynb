{
  "cells": [
    {
      "cell_type": "markdown",
      "metadata": {
        "id": "view-in-github",
        "colab_type": "text"
      },
      "source": [
        "<a href=\"https://colab.research.google.com/github/AubreyUndiPhiri/BDA-with-Python/blob/main/linuce_kitio_PPGP.ipynb\" target=\"_parent\"><img src=\"https://colab.research.google.com/assets/colab-badge.svg\" alt=\"Open In Colab\"/></a>"
      ]
    },
    {
      "cell_type": "markdown",
      "id": "8dbf56f6-289f-4d1a-914d-02f043e22a88",
      "metadata": {
        "id": "8dbf56f6-289f-4d1a-914d-02f043e22a88"
      },
      "source": [
        "****\n",
        "\n",
        "# <center> <b> <span style=\"color:blue;\"> Group 2: Checking a Password  </span> </b></center>\n",
        "### <center> <b> <span style=\"color:blue;\"> Group Members: <br><br>  Aubrey Undi Phiri, Kwizera Janvier, Stephen Taiwo, Linuce Demanou Kitio </span> </b></center>\n",
        "\n",
        "****"
      ]
    },
    {
      "cell_type": "markdown",
      "id": "0a7216f5-2088-4520-bf02-15300f48a6a0",
      "metadata": {
        "id": "0a7216f5-2088-4520-bf02-15300f48a6a0"
      },
      "source": [
        "## 1. Introduction\n",
        "This project focuses on developing a Python program that checks the strength of a password based on specific criteria. A good password must:\n",
        "\n",
        "- Be at least eight characters long\n",
        "- Contain at least one uppercase letter\n",
        "- Contain at least one lowercase letter\n",
        "- Contain at least one numerical digit\n",
        "- Contain at least one special character\n",
        "\n",
        "The program will prompt the user to enter a password and check if it meets these criteria. If the password is strong, the program will confirm its validity; otherwise, it will prompt the user to try again."
      ]
    },
    {
      "cell_type": "markdown",
      "id": "b5efe11b-ccee-49ae-a4ce-11ea9a5a9868",
      "metadata": {
        "id": "b5efe11b-ccee-49ae-a4ce-11ea9a5a9868"
      },
      "source": [
        "## 2. Design and Implementation\n",
        "\n",
        "In this program, functions are used to check different criteria that a password must satisfy. Each function is responsible for checking one specific criterion.\n",
        "\n",
        "To check if the password contain at least eight characters, the function **`has_atleast8_char()`** below is used. It is implemented using a conditional statement, and it returns a `bool`."
      ]
    },
    {
      "cell_type": "code",
      "execution_count": null,
      "id": "f1c7149b-8d15-4961-8dea-608bf1353385",
      "metadata": {
        "id": "f1c7149b-8d15-4961-8dea-608bf1353385"
      },
      "outputs": [],
      "source": [
        "def has_atleast8_char(string):\n",
        "    \"\"\"\n",
        "    This function checks if there are atleast 8 characters\n",
        "\n",
        "    Arg:\n",
        "    (str) - The string passed by the user.\n",
        "\n",
        "    Return:\n",
        "    (bool) - True or False, if it contains at least eight characters.\n",
        "    \"\"\"\n",
        "    if len(string) >= 8:\n",
        "        return True\n",
        "    else:\n",
        "        return False"
      ]
    },
    {
      "cell_type": "markdown",
      "id": "65e6d0f6-195f-4a26-8ef0-a86813f6b9d2",
      "metadata": {
        "id": "65e6d0f6-195f-4a26-8ef0-a86813f6b9d2"
      },
      "source": [
        "To verify that the password contains at least one uppercase letter, one lowercase letter, one digit, and one special character, we use the functions **`has_uppercase()`**, **`has_lowercase()`**, **`has_number()`**, and **`has_special_character()`** respectively. Each of these functions utilizes the **`any()`** function, which is an in-built Python function. The **`any()`** function takes an iterable (such as a list, tuple, or string) as an argument and returns `True` if at least one element in the iterable is `True`. If the iterable is empty or all elements are `False`, it returns `False`."
      ]
    },
    {
      "cell_type": "code",
      "execution_count": null,
      "id": "079ffed4-586d-4adb-9d4f-dd52b27578be",
      "metadata": {
        "id": "079ffed4-586d-4adb-9d4f-dd52b27578be"
      },
      "outputs": [],
      "source": [
        "def has_uppercase(string):\n",
        "    \"\"\"\n",
        "    This function checks if there are any uppercase letters in a given string.\n",
        "\n",
        "    Arg:\n",
        "    string (str) - The string passed by the user.\n",
        "\n",
        "    Return:\n",
        "    (bool)\n",
        "    \"\"\"\n",
        "    return any(char.isupper() for char in string)\n",
        "\n",
        "def has_lowercase(string):\n",
        "    \"\"\"\n",
        "    This function checks if there are any lowercase letters in a given string.\n",
        "\n",
        "    Arg:\n",
        "    (str) - The string passed by the user.\n",
        "\n",
        "    Return:\n",
        "    (bool)\n",
        "    \"\"\"\n",
        "    return any(char.islower() for char in string)\n",
        "\n",
        "def has_number(string):\n",
        "    \"\"\"\n",
        "    This function checks if there are any numbers in a given string.\n",
        "\n",
        "    Arg:\n",
        "    (str) - The string passed by the user.\n",
        "\n",
        "    Return:\n",
        "    (bool) - True if it contains any digit.\n",
        "    \"\"\"\n",
        "    return any(char.isdigit() for char in string)\n",
        "\n",
        "def has_special_character(string):\n",
        "    \"\"\"\n",
        "    This function checks if there are any special characters in a given string.\n",
        "\n",
        "    Arg:\n",
        "    (str) - The string passed by the user.\n",
        "\n",
        "    Return:\n",
        "    (bool) - True if it contains any special characters.\n",
        "    \"\"\"\n",
        "    special = \"@#$!%$*&_()+=-\\\"\\':;<,>.~`?/|\"\n",
        "    return any(char in special for char in string)"
      ]
    },
    {
      "cell_type": "markdown",
      "id": "5d42d9d0-1c37-444b-afc3-8b967c66608f",
      "metadata": {
        "id": "5d42d9d0-1c37-444b-afc3-8b967c66608f"
      },
      "source": [
        "With the helper functions in place, we can now create the main password evaluation function, **`check_strength()`**. This function determines if a password is strong by utilizing the five helper functions mentioned above."
      ]
    },
    {
      "cell_type": "code",
      "execution_count": null,
      "id": "05d36031-a9a1-4abb-aabd-bca68171f169",
      "metadata": {
        "id": "05d36031-a9a1-4abb-aabd-bca68171f169"
      },
      "outputs": [],
      "source": [
        "def check_strength(string):\n",
        "    \"\"\"\n",
        "    This function checks if the password is strong.\n",
        "\n",
        "    Input: char (str) - The password to check whether it is strong\n",
        "    Output: (bool) - True or False\n",
        "    \"\"\"\n",
        "    if has_atleast8_char(string) and has_uppercase(string) and has_lowercase(string) and has_number(string) and has_special_character(string):\n",
        "        return True\n",
        "    else:\n",
        "        return False"
      ]
    },
    {
      "cell_type": "markdown",
      "id": "b2e5ffc9-ed52-4f33-b9c8-11d810c8de18",
      "metadata": {
        "id": "b2e5ffc9-ed52-4f33-b9c8-11d810c8de18"
      },
      "source": [
        "The main program is designed to interact with the user by prompting them to enter a username and password. It then checks the strength of the entered password using the **`check_strength()`** function. Based on the evaluation, the program reports whether the password is strong or not. Using a `while` loop, the process continue until the user input a good password."
      ]
    },
    {
      "cell_type": "code",
      "execution_count": null,
      "id": "0fe756e7-3a0a-4225-baf3-41815108a74f",
      "metadata": {
        "id": "0fe756e7-3a0a-4225-baf3-41815108a74f"
      },
      "outputs": [],
      "source": [
        "def paswword_checker():\n",
        "    \"\"\"\n",
        "     This function asks the user for a username, and a password.\n",
        "     It requires that the user put in a password that satisfy the following:\n",
        "          Atleast 8 characters\n",
        "          Atleast one capital letter\n",
        "          Atleast one lowercase\n",
        "          Atleast one special character\n",
        "          Atleast one number\n",
        "    if these variables are not present in the user's password, it asks the user to re-enter the password.\n",
        "\n",
        "    Input: None\n",
        "    Output: Displays whether a password is good.\n",
        "    \"\"\"\n",
        "    username = input(\"Enter your username: \") #username input\n",
        "    while True:  # This loop keeps running until a strong password is entered\n",
        "        password = input(\"Enter your password: \") # Password input\n",
        "        if check_strength(password):\n",
        "          print(\"Your password is good!\")\n",
        "          break  # Exit the loop if password is strong\n",
        "        else:\n",
        "          print(\"\"\"Your password is not good enough. Try another one!\n",
        "          you should have:\n",
        "          Atleast eight characters,\n",
        "          one capital letter,\n",
        "          one lowercase letter,\n",
        "          one digit,\n",
        "          one special character\"\"\")"
      ]
    },
    {
      "cell_type": "markdown",
      "id": "eb5a17b2-ab8d-45b0-9e54-8dad99747350",
      "metadata": {
        "id": "eb5a17b2-ab8d-45b0-9e54-8dad99747350"
      },
      "source": [
        "## 3. Testing"
      ]
    },
    {
      "cell_type": "code",
      "execution_count": null,
      "id": "2d56dc71-73ed-471f-a57c-ef5184723e14",
      "metadata": {
        "id": "2d56dc71-73ed-471f-a57c-ef5184723e14"
      },
      "outputs": [],
      "source": [
        "paswword_checker()  # Testing the program."
      ]
    },
    {
      "cell_type": "markdown",
      "id": "aaac8a34-763f-4167-a503-fd7f16cda705",
      "metadata": {
        "id": "aaac8a34-763f-4167-a503-fd7f16cda705"
      },
      "source": [
        "## 4. Conclusion\n",
        "\n",
        "\n",
        "In this project, we developed a program to check the strength of passwords based on specific criteria. The program uses several functions to check if there are at least eight characters, one uppercase letter, one lowercase letter, one number, and one special character. The main function, **`check_strength()`**, integrates these checks to determine if a password is strong.\n",
        "\n",
        "The use of the **`any()`** function in our helper functions proved to be efficient and effective in evaluating the different criteria.\n",
        "\n",
        "Overall, this project demonstrates the importance of functions in Python programming. In the future, we can explore ways to optimize the performance of the program."
      ]
    },
    {
      "cell_type": "code",
      "execution_count": null,
      "id": "2489d81f-59cd-471b-94a9-22266efa607d",
      "metadata": {
        "id": "2489d81f-59cd-471b-94a9-22266efa607d"
      },
      "outputs": [],
      "source": []
    }
  ],
  "metadata": {
    "kernelspec": {
      "display_name": "Python 3 (ipykernel)",
      "language": "python",
      "name": "python3"
    },
    "language_info": {
      "codemirror_mode": {
        "name": "ipython",
        "version": 3
      },
      "file_extension": ".py",
      "mimetype": "text/x-python",
      "name": "python",
      "nbconvert_exporter": "python",
      "pygments_lexer": "ipython3",
      "version": "3.10.9"
    },
    "colab": {
      "provenance": [],
      "include_colab_link": true
    }
  },
  "nbformat": 4,
  "nbformat_minor": 5
}