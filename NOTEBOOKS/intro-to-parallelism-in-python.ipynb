{
 "cells": [
  {
   "cell_type": "markdown",
   "id": "f78faaea",
   "metadata": {},
   "source": [
    "# Parallel Processing in Python\n",
    "In this tutorial, you will learn how to use the Python builtin Multiprocessing library to parallelize computations. This is often one of the first  step when dealing large computations. We will cover the following:\n",
    "- Using Multiprocessing with a single parameter function\n",
    "- Using Multiprocessing with multiple parameters function\n",
    "- Use joblib library for paralellizing functions\n",
    "- Other ways to parallelize functions in Python\n",
    "\n",
    "For more technical details about the multiprocessing library, please see the documentation [here](https://docs.python.org/3/library/multiprocessing.html)"
   ]
  },
  {
   "cell_type": "markdown",
   "id": "4fe2c0e1",
   "metadata": {},
   "source": [
    "# Python setup"
   ]
  },
  {
   "cell_type": "code",
   "execution_count": 38,
   "id": "55a0f440",
   "metadata": {},
   "outputs": [],
   "source": [
    "from multiprocessing import Pool\n",
    "#import asyncio\n",
    "import time\n",
    "#import aiohttp\n",
    "import pandas as pd\n",
    "import seaborn as sns\n",
    "from pathlib import Path\n",
    "import plotly as px"
   ]
  },
  {
   "cell_type": "markdown",
   "id": "9cc04c1e",
   "metadata": {},
   "source": [
    "# Optimizing Pandas"
   ]
  },
  {
   "cell_type": "markdown",
   "id": "243e7e36",
   "metadata": {},
   "source": [
    "## Read only a subset of the rows"
   ]
  },
  {
   "cell_type": "code",
   "execution_count": 2,
   "id": "cf46cb15",
   "metadata": {},
   "outputs": [
    {
     "name": "stderr",
     "output_type": "stream",
     "text": [
      "/Users/dmatekenya/opt/anaconda3/lib/python3.9/site-packages/IPython/core/interactiveshell.py:3444: DtypeWarning: Columns (13,40,48,51,53,66,173,174,175,176,177,178) have mixed types.Specify dtype option on import or set low_memory=False.\n",
      "  exec(code_obj, self.user_global_ns, self.user_ns)\n"
     ]
    }
   ],
   "source": [
    "# you can reeplace this with activity_log_raw.csv file or the kaggle-expedia-train.csv\n",
    "file_16gb = \"/Users/dmatekenya/WBG-LOCAL/MADAGASCAR-POV-MAPPING/data/input/census/data/ResidentIBEIPM.csv\"\n",
    "df_first_5mill = pd.read_csv(file_16gb, nrows=200000)"
   ]
  },
  {
   "cell_type": "markdown",
   "id": "0f9c7ca3",
   "metadata": {},
   "source": [
    "## Read data in chunks"
   ]
  },
  {
   "cell_type": "code",
   "execution_count": 6,
   "id": "d851161a",
   "metadata": {},
   "outputs": [
    {
     "name": "stdout",
     "output_type": "stream",
     "text": [
      "Working on chunk: 1\n",
      "(10000, 203)\n"
     ]
    }
   ],
   "source": [
    "# set chunck size to 5 million rows\n",
    "chunksize = 2000000\n",
    "cnt = 1\n",
    "tot_rows = 0\n",
    "dataframe_list = []\n",
    "with pd.read_csv(file_16gb, chunksize=chunksize) as reader:\n",
    "    # Do some processing with those two million rows\n",
    "    for chunk in reader:\n",
    "        print(\"Working on chunk: {}\".format(cnt))\n",
    "        print(chunk.shape)\n",
    "        tot_rows += chunk.shape[0]\n",
    "        dataframe_list.append(chunk)\n",
    "        cnt += 1\n",
    "        if cnt == 10:\n",
    "            break"
   ]
  },
  {
   "cell_type": "markdown",
   "id": "410e040f",
   "metadata": {},
   "source": [
    "## Read only a subset of columns\n",
    "With pandas, you can also read a subset of the columns instead reading all columns."
   ]
  },
  {
   "cell_type": "markdown",
   "id": "24245b8f",
   "metadata": {},
   "source": [
    "### EXERCISE-1: Which arguement do you use to read only a subset of columns in pandas?"
   ]
  },
  {
   "cell_type": "code",
   "execution_count": 4,
   "id": "b26b055e-58da-4fa2-ad6a-9a6dd80e3de1",
   "metadata": {},
   "outputs": [
    {
     "data": {
      "text/html": [
       "<div>\n",
       "<style scoped>\n",
       "    .dataframe tbody tr th:only-of-type {\n",
       "        vertical-align: middle;\n",
       "    }\n",
       "\n",
       "    .dataframe tbody tr th {\n",
       "        vertical-align: top;\n",
       "    }\n",
       "\n",
       "    .dataframe thead th {\n",
       "        text-align: right;\n",
       "    }\n",
       "</style>\n",
       "<table border=\"1\" class=\"dataframe\">\n",
       "  <thead>\n",
       "    <tr style=\"text-align: right;\">\n",
       "      <th></th>\n",
       "      <th>PROVINCE</th>\n",
       "      <th>REGION</th>\n",
       "      <th>DISTRICT</th>\n",
       "      <th>COMMUNES</th>\n",
       "      <th>MILIEU</th>\n",
       "    </tr>\n",
       "  </thead>\n",
       "  <tbody>\n",
       "    <tr>\n",
       "      <th>0</th>\n",
       "      <td>1</td>\n",
       "      <td>11</td>\n",
       "      <td>111</td>\n",
       "      <td>11101</td>\n",
       "      <td>1</td>\n",
       "    </tr>\n",
       "    <tr>\n",
       "      <th>1</th>\n",
       "      <td>1</td>\n",
       "      <td>11</td>\n",
       "      <td>111</td>\n",
       "      <td>11101</td>\n",
       "      <td>1</td>\n",
       "    </tr>\n",
       "    <tr>\n",
       "      <th>2</th>\n",
       "      <td>1</td>\n",
       "      <td>11</td>\n",
       "      <td>111</td>\n",
       "      <td>11101</td>\n",
       "      <td>1</td>\n",
       "    </tr>\n",
       "    <tr>\n",
       "      <th>3</th>\n",
       "      <td>1</td>\n",
       "      <td>11</td>\n",
       "      <td>111</td>\n",
       "      <td>11101</td>\n",
       "      <td>1</td>\n",
       "    </tr>\n",
       "    <tr>\n",
       "      <th>4</th>\n",
       "      <td>1</td>\n",
       "      <td>11</td>\n",
       "      <td>111</td>\n",
       "      <td>11101</td>\n",
       "      <td>1</td>\n",
       "    </tr>\n",
       "    <tr>\n",
       "      <th>...</th>\n",
       "      <td>...</td>\n",
       "      <td>...</td>\n",
       "      <td>...</td>\n",
       "      <td>...</td>\n",
       "      <td>...</td>\n",
       "    </tr>\n",
       "    <tr>\n",
       "      <th>25674191</th>\n",
       "      <td>6</td>\n",
       "      <td>62</td>\n",
       "      <td>624</td>\n",
       "      <td>62418</td>\n",
       "      <td>2</td>\n",
       "    </tr>\n",
       "    <tr>\n",
       "      <th>25674192</th>\n",
       "      <td>6</td>\n",
       "      <td>62</td>\n",
       "      <td>624</td>\n",
       "      <td>62418</td>\n",
       "      <td>2</td>\n",
       "    </tr>\n",
       "    <tr>\n",
       "      <th>25674193</th>\n",
       "      <td>6</td>\n",
       "      <td>62</td>\n",
       "      <td>624</td>\n",
       "      <td>62418</td>\n",
       "      <td>2</td>\n",
       "    </tr>\n",
       "    <tr>\n",
       "      <th>25674194</th>\n",
       "      <td>6</td>\n",
       "      <td>62</td>\n",
       "      <td>624</td>\n",
       "      <td>62418</td>\n",
       "      <td>2</td>\n",
       "    </tr>\n",
       "    <tr>\n",
       "      <th>25674195</th>\n",
       "      <td>6</td>\n",
       "      <td>62</td>\n",
       "      <td>624</td>\n",
       "      <td>62418</td>\n",
       "      <td>2</td>\n",
       "    </tr>\n",
       "  </tbody>\n",
       "</table>\n",
       "<p>25674196 rows × 5 columns</p>\n",
       "</div>"
      ],
      "text/plain": [
       "          PROVINCE  REGION  DISTRICT  COMMUNES  MILIEU\n",
       "0                1      11       111     11101       1\n",
       "1                1      11       111     11101       1\n",
       "2                1      11       111     11101       1\n",
       "3                1      11       111     11101       1\n",
       "4                1      11       111     11101       1\n",
       "...            ...     ...       ...       ...     ...\n",
       "25674191         6      62       624     62418       2\n",
       "25674192         6      62       624     62418       2\n",
       "25674193         6      62       624     62418       2\n",
       "25674194         6      62       624     62418       2\n",
       "25674195         6      62       624     62418       2\n",
       "\n",
       "[25674196 rows x 5 columns]"
      ]
     },
     "execution_count": 4,
     "metadata": {},
     "output_type": "execute_result"
    }
   ],
   "source": [
    "df = pd.read_csv(file_16gb, usecols=['PROVINCE', 'REGION', 'DISTRICT', 'COMMUNES', 'MILIEU'])\n",
    "df"
   ]
  },
  {
   "cell_type": "markdown",
   "id": "65b3d5fc",
   "metadata": {},
   "source": [
    "# Speeding up IO Bound Programs\n",
    "Refer to [this Python script](https://drive.google.com/file/d/1F_D5gKyOV61zQ4COq_qWqhBWPH2yOG_Z/view?usp=share_link) for this."
   ]
  },
  {
   "cell_type": "markdown",
   "id": "4f13db9c",
   "metadata": {},
   "source": [
    "## Using multiprocessing with a single parameter function"
   ]
  },
  {
   "cell_type": "markdown",
   "id": "4a77a501",
   "metadata": {},
   "source": [
    "## 1. Define function we would like to run\n",
    "For the sake demonstration here, we will define a very simple function."
   ]
  },
  {
   "cell_type": "code",
   "execution_count": 8,
   "id": "530951f9",
   "metadata": {},
   "outputs": [],
   "source": [
    "def square(num):\n",
    "    return num**2"
   ]
  },
  {
   "cell_type": "markdown",
   "id": "09224682",
   "metadata": {},
   "source": [
    "## Run the function sequentially on a big list"
   ]
  },
  {
   "cell_type": "code",
   "execution_count": null,
   "id": "a0f8eab3",
   "metadata": {},
   "outputs": [],
   "source": [
    "result = [square(x) for x in list(range(100000000))]\n",
    "result"
   ]
  },
  {
   "cell_type": "markdown",
   "id": "3c3d673c",
   "metadata": {},
   "source": [
    "## Run with multiprocessing\n",
    "These lines create a multiprocessing pool of eight workers, and we can use this pool to map our required function to this list. The Pool class represents a pool of worker processes. It has methods which allows tasks to be offloaded to the worker processes in a few different ways."
   ]
  },
  {
   "cell_type": "code",
   "execution_count": null,
   "id": "47d48e9b",
   "metadata": {},
   "outputs": [],
   "source": [
    "# Number of logical cores/cpus/processors as opposed to physical cores\n",
    "pool = Pool(6)\n",
    "result = pool.map(square,list(range(100000)))\n",
    "pool.close()"
   ]
  },
  {
   "cell_type": "markdown",
   "id": "bba8f987",
   "metadata": {},
   "source": [
    "## Compare the linear/sequential processing with the parallel processing"
   ]
  },
  {
   "cell_type": "code",
   "execution_count": null,
   "id": "0b6acd7c",
   "metadata": {
    "code_folding": [
     0
    ]
   },
   "outputs": [],
   "source": [
    "def run_func(list_length):\n",
    "    print(\"Size of List:{}\".format(list_length))\n",
    "    t0 = time.time()\n",
    "    result1 = [square(x) for x in list(range(list_length))]\n",
    "    t1 = time.time()\n",
    "    diff = round(t1-t0, 4)\n",
    "    print(\"Running time-Sequential Processing: {} seconds\".format(diff))\n",
    "    time_without_multiprocessing = diff\n",
    "    # Run with multiprocessing\n",
    "    t0 = time.time()\n",
    "    pool = Pool(8)\n",
    "    result2 = pool.map(square,list(range(list_length)))\n",
    "    pool.close()\n",
    "    t1 = time.time()\n",
    "    diff = round(t1-t0, 4)\n",
    "    print(\"Running time-Multiprocessing: {} seconds\".format(diff))\n",
    "    time_with_multiprocessing = diff\n",
    "    return time_without_multiprocessing, time_with_multiprocessing"
   ]
  },
  {
   "cell_type": "code",
   "execution_count": null,
   "id": "3f4a7aed",
   "metadata": {
    "code_folding": [
     0
    ]
   },
   "outputs": [],
   "source": [
    "def main():\n",
    "    times_taken = []\n",
    "    for i in range(1, 9):\n",
    "        list_length = 10**i\n",
    "        time_seq, time_parallel = run_func(list_length)\n",
    "        times_taken.append([list_length, 'No Multiproc', time_seq])\n",
    "        times_taken.append([list_length, 'Multiproc', time_parallel])\n",
    "\n",
    "    timedf = pd.DataFrame(times_taken,columns = ['list_length', 'type','time_taken'])\n",
    "    fig =  px.line(timedf,x = 'List-Length',y='Timetaken',color='type',log_x=True)\n",
    "    plotly.offline.plot(fig, filename='comparison_bw_multiproc.html')"
   ]
  },
  {
   "cell_type": "markdown",
   "id": "7a9b034d",
   "metadata": {},
   "source": [
    "### EXERCISE-2: \n",
    "1. Make the function 3 seconds slower and report what happens. **Hint.** You can use ```time.sleep(seconds)``` to simulate a more tie consumning function.\n",
    "2. Find out the number of logical processors on your machine\n",
    "3. Reduce the number of processors available to Pool and see if it has effect on the running time."
   ]
  },
  {
   "cell_type": "markdown",
   "id": "3c28c706",
   "metadata": {},
   "source": [
    "## Using multiprocessing with multiple parameter function\n",
    "We can extend the code above to run a function with multiple parameters. We can simply use the ```starmap``` method for ```Pool``` to achieve this as below."
   ]
  },
  {
   "cell_type": "code",
   "execution_count": 2,
   "id": "888aa275",
   "metadata": {},
   "outputs": [],
   "source": [
    "def square_add(num1, num2):\n",
    "    return num1**2 + num2**2"
   ]
  },
  {
   "cell_type": "code",
   "execution_count": 18,
   "id": "52047894-20fc-4ab9-bd66-0c9d7c4d2c99",
   "metadata": {},
   "outputs": [],
   "source": [
    "folder = Path(\"../DATA/raw/simulated_cdrs/\")"
   ]
  },
  {
   "cell_type": "code",
   "execution_count": null,
   "id": "deea99b6-f389-4f4e-a575-12eef7ecb969",
   "metadata": {},
   "outputs": [],
   "source": [
    "df = \"../DATA/raw/simulated_cdrs/HW2018062913016546.dat.csv"
   ]
  },
  {
   "cell_type": "code",
   "execution_count": 19,
   "id": "8fc5d308-80e1-4cbb-9234-d07047fd6757",
   "metadata": {},
   "outputs": [
    {
     "name": "stderr",
     "output_type": "stream",
     "text": [
      "/Users/dmatekenya/opt/anaconda3/lib/python3.9/site-packages/IPython/core/interactiveshell.py:3444: DtypeWarning: Columns (0) have mixed types.Specify dtype option on import or set low_memory=False.\n",
      "  exec(code_obj, self.user_global_ns, self.user_ns)\n"
     ]
    }
   ],
   "source": [
    "df = pd.read_csv(\"/Users/dmatekenya/WBG-LOCAL/Mozambique/data-cdrs/CDRmCel/cdr_marco_01.csv\")"
   ]
  },
  {
   "cell_type": "code",
   "execution_count": 2,
   "id": "2e73f89c-eeeb-46d9-bf6e-c407dac46ae3",
   "metadata": {},
   "outputs": [
    {
     "data": {
      "text/plain": [
       "5.733333333333333"
      ]
     },
     "execution_count": 2,
     "metadata": {},
     "output_type": "execute_result"
    }
   ],
   "source": [
    "344/60"
   ]
  },
  {
   "cell_type": "code",
   "execution_count": 29,
   "id": "e74737fc-e4dd-4262-824f-4b484114f58d",
   "metadata": {},
   "outputs": [],
   "source": [
    "folder = Path(\"/Users/dmatekenya/WBG-LOCAL/Mozambique/data-cdrs/CDRmCel/\")"
   ]
  },
  {
   "cell_type": "code",
   "execution_count": 26,
   "id": "f4c723be-6fa4-4808-9ee9-c8ebe07c965a",
   "metadata": {},
   "outputs": [],
   "source": [
    "outdir = Path(\"../DATA/raw/many-csv-files/\")"
   ]
  },
  {
   "cell_type": "code",
   "execution_count": null,
   "id": "6939d86e",
   "metadata": {},
   "outputs": [],
   "source": [
    "processors = Pool(4)\n",
    "params = [[100,4],[150,5],[200,6],[300,4]]\n",
    "results = processors.starmap(square_add, params)\n",
    "processors.close()\n",
    "print(results[2])"
   ]
  },
  {
   "cell_type": "markdown",
   "id": "6842ae69",
   "metadata": {},
   "source": [
    "# Other ways to utilize multiprocessing in Python\n",
    "Although we have only shown simple basic examples here, you can use multiprocessing to perfom There are other libraries which can be used to achieve parallization in Python. FOr example:\n",
    "1. [concurrent.futures](https://docs.python.org/3/library/concurrent.futures.html). Although its also a builtin library, it is considered more high level and relatively easier to use than using multiprocessing directly.\n",
    "2. [Joblib](https://joblib.readthedocs.io/en/latest/)"
   ]
  }
 ],
 "metadata": {
  "kernelspec": {
   "display_name": "Python 3 (ipykernel)",
   "language": "python",
   "name": "python3"
  },
  "language_info": {
   "codemirror_mode": {
    "name": "ipython",
    "version": 3
   },
   "file_extension": ".py",
   "mimetype": "text/x-python",
   "name": "python",
   "nbconvert_exporter": "python",
   "pygments_lexer": "ipython3",
   "version": "3.9.7"
  },
  "toc": {
   "base_numbering": 1,
   "nav_menu": {},
   "number_sections": false,
   "sideBar": true,
   "skip_h1_title": false,
   "title_cell": "Table of Contents",
   "title_sidebar": "Contents",
   "toc_cell": false,
   "toc_position": {},
   "toc_section_display": true,
   "toc_window_display": false
  }
 },
 "nbformat": 4,
 "nbformat_minor": 5
}
