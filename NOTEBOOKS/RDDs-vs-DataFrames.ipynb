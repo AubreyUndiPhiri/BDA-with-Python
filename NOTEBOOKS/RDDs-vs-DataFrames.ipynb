{
 "cells": [
  {
   "cell_type": "markdown",
   "id": "9b34b4d0",
   "metadata": {},
   "source": [
    "# RDDs Vs. DataFrames\n",
    "A simple tutorial to compare low-level APIs such as RDD and structured APIs in this case DataFrames"
   ]
  },
  {
   "cell_type": "markdown",
   "id": "03667129",
   "metadata": {},
   "source": [
    "# Compute Aggregation By Key Using DataFrames"
   ]
  },
  {
   "cell_type": "code",
   "execution_count": 1,
   "id": "f1b74b9b",
   "metadata": {},
   "outputs": [],
   "source": [
    "# IMPORT ALL NECESSARY VARIABLES FOR YOU TO RUN THE CODE BELOW\n",
    "from pyspark.sql import SparkSession"
   ]
  },
  {
   "cell_type": "code",
   "execution_count": 1,
   "id": "f19be245",
   "metadata": {},
   "outputs": [],
   "source": [
    "# import required Python packages\n",
    "YOUR CODE HERE"
   ]
  },
  {
   "cell_type": "code",
   "execution_count": 2,
   "id": "f4f21d93",
   "metadata": {},
   "outputs": [
    {
     "name": "stderr",
     "output_type": "stream",
     "text": [
      "22/01/17 04:47:53 WARN NativeCodeLoader: Unable to load native-hadoop library for your platform... using builtin-java classes where applicable\n",
      "Using Spark's default log4j profile: org/apache/spark/log4j-defaults.properties\n",
      "Setting default log level to \"WARN\".\n",
      "To adjust logging level use sc.setLogLevel(newLevel). For SparkR, use setLogLevel(newLevel).\n",
      "22/01/17 04:47:53 WARN Utils: Service 'SparkUI' could not bind on port 4040. Attempting port 4041.\n"
     ]
    }
   ],
   "source": [
    "# create a SparkSession\n",
    "spark = YOUR CODE HERE"
   ]
  },
  {
   "cell_type": "code",
   "execution_count": 3,
   "id": "736ab47d",
   "metadata": {},
   "outputs": [],
   "source": [
    "# Create a simple Spark DataFrame \n",
    "data = [(\"Brooke\", 20), (\"Denny\", 31), (\"Jules\", 30), (\"TD\", 35), (\"Brooke\", 25)]\n",
    "colnames = [\"name\", \"age\"]\n",
    "# Use the createDataFrame() function on spark to create a DataFrame with the data above\n",
    "data_df = YOUR CODE HERE\n",
    "# Group the same names together, aggregate their ages, and compute an average avg_df = data_df.groupBy(\"name\").agg(avg(\"age\"))\n",
    "avg_df = YOUR CODE HERE\n",
    "# show the results\n",
    "YOUR CODE HERE"
   ]
  },
  {
   "cell_type": "markdown",
   "id": "2f46b3b2",
   "metadata": {},
   "source": [
    "# So, how would you do the same thing in RDDs"
   ]
  },
  {
   "cell_type": "code",
   "execution_count": 18,
   "id": "addffe91",
   "metadata": {},
   "outputs": [],
   "source": [
    "# we can use the parallelize function to create an RDD from Python objects\n",
    "# however, we need a SparkContext object to create RDD and we can create  it from SparkSession\n",
    "rdd_data = spark.sparkContext.parallelize(data)\n",
    "# Use map and reduceByKey transformations with their lambda \n",
    "# expressions to aggregate and then compute average\n",
    "ages_rdd = (rdd_data\n",
    ".map(lambda x: (x[0], (x[1], 1)))\n",
    ".reduceByKey(lambda x, y: (x[0] + y[0], x[1] + y[1]))\n",
    ".map(lambda x: (x[0], x[1][0]/x[1][1])))\n",
    "\n",
    "# you can use collect() function on RDD to bring all the data on a single core and \n",
    "# look at it \n",
    "ages_rdd_list = ages_rdd.collect()"
   ]
  },
  {
   "cell_type": "markdown",
   "id": "f2ab7af1",
   "metadata": {},
   "source": [
    "# What do you think? Which one is easier to work with?"
   ]
  },
  {
   "cell_type": "code",
   "execution_count": null,
   "id": "48f045ce",
   "metadata": {},
   "outputs": [],
   "source": []
  }
 ],
 "metadata": {
  "kernelspec": {
   "display_name": "Python 3 (ipykernel)",
   "language": "python",
   "name": "python3"
  },
  "language_info": {
   "codemirror_mode": {
    "name": "ipython",
    "version": 3
   },
   "file_extension": ".py",
   "mimetype": "text/x-python",
   "name": "python",
   "nbconvert_exporter": "python",
   "pygments_lexer": "ipython3",
   "version": "3.9.7"
  },
  "toc": {
   "base_numbering": 1,
   "nav_menu": {},
   "number_sections": false,
   "sideBar": true,
   "skip_h1_title": false,
   "title_cell": "Table of Contents",
   "title_sidebar": "Contents",
   "toc_cell": false,
   "toc_position": {},
   "toc_section_display": true,
   "toc_window_display": false
  }
 },
 "nbformat": 4,
 "nbformat_minor": 5
}
