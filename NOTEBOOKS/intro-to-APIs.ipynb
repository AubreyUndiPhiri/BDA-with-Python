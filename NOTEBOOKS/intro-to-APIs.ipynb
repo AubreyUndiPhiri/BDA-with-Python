{
 "cells": [
  {
   "cell_type": "markdown",
   "metadata": {},
   "source": [
    "# Introduction to Using APIs\n",
    "\n",
    "In this notebook, we will go through a practical example of how to use Python to access an API.\n",
    "For quick demonstration of the concepts, we will use the [Open Notify API](http://open-notify.org), [openWeather](https://openweathermap.org) and [WBG] (http://datatopics.worldbank.org/world-development-indicators/themes/people.html) APIs."
   ]
  },
  {
   "cell_type": "markdown",
   "metadata": {},
   "source": [
    "# Python Setup\n",
    "Lets make sure we import the required libraries"
   ]
  },
  {
   "cell_type": "code",
   "execution_count": 1,
   "metadata": {},
   "outputs": [],
   "source": [
    "import requests\n",
    "from matplotlib.pyplot import figure\n",
    "import matplotlib.pyplot as plt\n",
    "import pandas as pd"
   ]
  },
  {
   "cell_type": "markdown",
   "metadata": {},
   "source": [
    "# Accessing a Useless API Just to Learn\n",
    "The [Open Notify API](http://open-notify.org) is an open source project to provide a simple programming interface for some of NASA’s data related\n",
    "space and spacecrafts. Even though this is a toy example, the process of using APIs is similar for any \n",
    "API you will need to access in the future. For this tutorial, the task is to find the latest position of the Internation Space Station(ISS)"
   ]
  },
  {
   "cell_type": "markdown",
   "metadata": {},
   "source": [
    "## Understanding The API\n",
    "As mentioned during the introductory lecture, its important to read the API documentation \n",
    "and understand the available **endpoints**. Also, to determine the exact endpoint for the data we are interested in getting.\n",
    "- **Base URL:** For this API, the base url is: ```http://api.open-notify.org```. So, our full url which we will pass to requests will be ```base-url + endpoint```\n",
    "- **Available Endpoints/Data:** You can check [here](http://open-notify.org/Open-Notify-API/) for avaible endpoints\n",
    "- **Target Endpoint:** For our task, the endpoint is ```iss-now.json```"
   ]
  },
  {
   "cell_type": "markdown",
   "metadata": {},
   "source": [
    "## Making the Request\n",
    "Now, lets request for the data. We create a simple function which makes the requests \n",
    "and prints the status code to see if we got a good result."
   ]
  },
  {
   "cell_type": "code",
   "execution_count": 2,
   "metadata": {},
   "outputs": [],
   "source": [
    "base_url = 'http://api.open-notify.org/'"
   ]
  },
  {
   "cell_type": "code",
   "execution_count": 3,
   "metadata": {},
   "outputs": [],
   "source": [
    "# endpoint for current position of ISS\n",
    "pos_now = 'iss-now.json'"
   ]
  },
  {
   "cell_type": "code",
   "execution_count": 4,
   "metadata": {},
   "outputs": [
    {
     "data": {
      "text/plain": [
       "'http://api.open-notify.org/iss-now.json'"
      ]
     },
     "execution_count": 4,
     "metadata": {},
     "output_type": "execute_result"
    }
   ],
   "source": [
    "# Full url\n",
    "full_url = base_url + pos_now\n",
    "full_url"
   ]
  },
  {
   "cell_type": "code",
   "execution_count": 5,
   "metadata": {},
   "outputs": [],
   "source": [
    "# Make a request using requests package\n",
    "response = requests.get(full_url)"
   ]
  },
  {
   "cell_type": "code",
   "execution_count": 6,
   "metadata": {},
   "outputs": [
    {
     "data": {
      "text/plain": [
       "200"
      ]
     },
     "execution_count": 6,
     "metadata": {},
     "output_type": "execute_result"
    }
   ],
   "source": [
    "response.status_code"
   ]
  },
  {
   "cell_type": "markdown",
   "metadata": {},
   "source": [
    "## Use json() to retrieve the json object/data"
   ]
  },
  {
   "cell_type": "code",
   "execution_count": 7,
   "metadata": {},
   "outputs": [
    {
     "name": "stdout",
     "output_type": "stream",
     "text": [
      "{'timestamp': 1642578987, 'iss_position': {'longitude': '-33.2471', 'latitude': '-32.8984'}, 'message': 'success'}\n"
     ]
    }
   ],
   "source": [
    "# Get the data\n",
    "dict_obj_from_json = response.json()\n",
    "type(dict_obj_from_json)\n",
    "print(dict_obj_from_json)"
   ]
  },
  {
   "cell_type": "code",
   "execution_count": 8,
   "metadata": {},
   "outputs": [
    {
     "data": {
      "text/plain": [
       "{'longitude': '-33.2471', 'latitude': '-32.8984'}"
      ]
     },
     "execution_count": 8,
     "metadata": {},
     "output_type": "execute_result"
    }
   ],
   "source": [
    "geo_info = dict_obj_from_json['iss_position']\n",
    "geo_info"
   ]
  },
  {
   "cell_type": "code",
   "execution_count": 9,
   "metadata": {},
   "outputs": [
    {
     "name": "stdout",
     "output_type": "stream",
     "text": [
      "-33.2471\n",
      "-32.8984\n"
     ]
    }
   ],
   "source": [
    "lon = geo_info['longitude']\n",
    "print(lon)\n",
    "lat = geo_info['latitude']\n",
    "print(lat)"
   ]
  },
  {
   "cell_type": "code",
   "execution_count": 10,
   "metadata": {},
   "outputs": [
    {
     "name": "stdout",
     "output_type": "stream",
     "text": [
      "-32.8984 -- -33.2471\n"
     ]
    }
   ],
   "source": [
    "geo_info = dict_obj_from_json['iss_position']\n",
    "lon = geo_info['longitude']\n",
    "lat = geo_info['latitude']\n",
    "print(lat,'--', lon)"
   ]
  },
  {
   "cell_type": "code",
   "execution_count": 11,
   "metadata": {},
   "outputs": [
    {
     "ename": "SyntaxError",
     "evalue": "invalid syntax (580404902.py, line 3)",
     "output_type": "error",
     "traceback": [
      "\u001b[0;36m  File \u001b[0;32m\"/var/folders/w3/dfvgjkh10wz8t573m_c20xf00000gp/T/ipykernel_43764/580404902.py\"\u001b[0;36m, line \u001b[0;32m3\u001b[0m\n\u001b[0;31m    pos_now =\u001b[0m\n\u001b[0m              ^\u001b[0m\n\u001b[0;31mSyntaxError\u001b[0m\u001b[0;31m:\u001b[0m invalid syntax\n"
     ]
    }
   ],
   "source": [
    "base_url = 'http://api.open-notify.org/'\n",
    "#endpoint for current position of ISS\n",
    "pos_now = \n",
    "# Full url\n",
    "full_url = base_url + pos_now\n",
    "\n",
    "\n",
    "# Make a request using requests package\n",
    "r = requests.get(full_url)\n",
    "\n",
    "# Get the data\n",
    "dict_obj_from_json = r.json()\n",
    "\n",
    "# Extract Lat/Lon\n",
    "geo_info = dict_obj_from_json['iss_position']\n",
    "lon = geo_info['longitude']\n",
    "lat = geo_info['latitude']\n",
    "print(lat,'--', lon)"
   ]
  },
  {
   "cell_type": "code",
   "execution_count": null,
   "metadata": {
    "code_folding": [
     0
    ]
   },
   "outputs": [],
   "source": [
    "def request_iss_position(endpoint_url=None):\n",
    "    # Make a get request \n",
    "    response = requests.get(endpoint_url)\n",
    "\n",
    "    # Print the status code of the response.\n",
    "    status_code = response.status_code\n",
    "    if status_code == 200:\n",
    "        print('Hooray!!, it worked')\n",
    "        \n",
    "        # access the returned data\n",
    "        dict_obj_from_json = response.json()\n",
    "        print('Type: {}'.format(type(dict_obj_from_json)))\n",
    "        print('This is the nested dictionary returned: \\n {}'.format(dict_obj_from_json))\n",
    "        lat = dict_obj_from_json['iss_position']['latitude']\n",
    "        lon = dict_obj_from_json['iss_position']['longitude']\n",
    "        print('ISS is passing on Lat: {}, and Lon: {} right about now'.format(lat, lon))\n",
    "    else:\n",
    "        print('What happened, lets see the code we got: {}'.format(status_code))"
   ]
  },
  {
   "cell_type": "code",
   "execution_count": null,
   "metadata": {},
   "outputs": [],
   "source": [
    "base_url = 'http://api.open-notify.org/'\n",
    "iss_pos = base_url + 'iss-now.json'\n",
    "request_iss_position(endpoint_url=iss_pos)"
   ]
  },
  {
   "cell_type": "code",
   "execution_count": null,
   "metadata": {},
   "outputs": [],
   "source": [
    "# Now, try to enter a wrong endpoint and see what happens\n",
    "iss_pos2 = base_url + 'iss-today.json'\n",
    "request_iss_position(endpoint_url=iss_pos2)"
   ]
  },
  {
   "cell_type": "markdown",
   "metadata": {},
   "source": [
    "# Accessing the Data\n",
    "Now, lets change our function so that we print the Latitude and Longitude of where ISS is right now."
   ]
  },
  {
   "cell_type": "code",
   "execution_count": null,
   "metadata": {},
   "outputs": [],
   "source": [
    "request_iss_position(endpoint_url=iss_pos)"
   ]
  },
  {
   "cell_type": "markdown",
   "metadata": {},
   "source": [
    "# EXERCISE-1:\n",
    "Using the same API, check how many Astronouts are in space right now?"
   ]
  },
  {
   "cell_type": "code",
   "execution_count": null,
   "metadata": {
    "code_folding": [
     0
    ]
   },
   "outputs": [],
   "source": [
    "# base-url is same as above\n",
    "# end point for this data: please check documentation\n",
    "num_astros = YOUR CODE\n",
    "\n",
    "# full_url number of astronouts\n",
    "num_astros_url = YOUR CODE\n",
    "\n",
    "# Make request\n",
    "response = YOUR CODE\n",
    "\n",
    "# Get data if response is 200\n",
    "if response.status_code == 200:\n",
    "    # Extract the dict object from the JSON response\n",
    "    res = response.json()\n",
    "    \n",
    "    # please print the dict object above so you can inspect it and see how to retrieve the required data\n",
    "    print(res)\n",
    "    \n",
    "    # Get the number of people in spacw\n",
    "    YOUR CODE\n",
    "    \n",
    "    # print number of people\n",
    "    YOUR CODE"
   ]
  },
  {
   "cell_type": "markdown",
   "metadata": {},
   "source": [
    "# Accessing  the Open Weather API\n",
    "You can read all about it [here](https://openweathermap.org) but basically, they provide weather data for cities across  the world."
   ]
  },
  {
   "cell_type": "code",
   "execution_count": 12,
   "metadata": {
    "code_folding": [
     0
    ]
   },
   "outputs": [],
   "source": [
    "def get_weather(base_url, api_key=None, city_id=None):\n",
    "    \"\"\"\n",
    "    Returns weather\n",
    "    :param api_key:\n",
    "    :param city_name:\n",
    "    :return:\n",
    "    \"\"\"\n",
    "    # add your API key\n",
    "    url = \"{}{}&APPID={}\".format(base_url, city_id, api_key)\n",
    "\n",
    "    # use requests to retrieve data from the API\n",
    "    response = requests.get(url)\n",
    "\n",
    "    # retrieve JSON from the response object\n",
    "    json_obj = response.json()\n",
    "\n",
    "    # return the JSON object\n",
    "    return json_obj"
   ]
  },
  {
   "cell_type": "code",
   "execution_count": 13,
   "metadata": {},
   "outputs": [],
   "source": [
    "base_url = \"http://api.openweathermap.org/data/2.5/forecast?id=\"\n",
    "# REPLACE WITH YOUR OWN OR YOU CAN USE MINE\n",
    "API_KEY = 'cd689df7ce5a01db2aafde528e3d87c4'\n",
    "city_name = \"R\"\n",
    "dakar_weather = get_weather(base_url=base_url, api_key=API_KEY,\n",
    "                           city_id=524901)"
   ]
  },
  {
   "cell_type": "markdown",
   "metadata": {},
   "source": [
    "## Getting city_id from city  name using the JSON file"
   ]
  },
  {
   "cell_type": "code",
   "execution_count": null,
   "metadata": {},
   "outputs": [],
   "source": [
    "import json\n",
    "city_details = \"../data/city.list.json\"\n",
    "fopen = open(city_details, encoding=\"utf8\")\n",
    "city_list = json.load(fopen)"
   ]
  },
  {
   "cell_type": "code",
   "execution_count": null,
   "metadata": {},
   "outputs": [],
   "source": [
    "for c in city_list:\n",
    "    if c['name'] == city_name:\n",
    "       city_id = c['id'] "
   ]
  },
  {
   "cell_type": "markdown",
   "metadata": {},
   "source": [
    "## EXERCISE-2: Save weather data into a CSV"
   ]
  },
  {
   "cell_type": "code",
   "execution_count": 14,
   "metadata": {
    "code_folding": [
     0
    ]
   },
   "outputs": [
    {
     "data": {
      "text/plain": [
       "dict_keys(['cod', 'message', 'cnt', 'list', 'city'])"
      ]
     },
     "execution_count": 14,
     "metadata": {},
     "output_type": "execute_result"
    }
   ],
   "source": [
    "def compile_weather_forecast(city_name=None, output_csv_file=None):\n",
    "    \"\"\"\n",
    "    Get weather forecasts for Dakar. Please get only TEMPERATURE and HUMIDITY\n",
    "    Useful Info:\n",
    "    city_details_file: day2-python-for-data-science/data/city.list.json\n",
    "    :param your_api_key:\n",
    "    :param output_csv_file:\n",
    "    :return:\n",
    "    \"\"\"\n",
    "    # # copy and paste your API key below\n",
    "    # API_KEY = [YOUR CODE HERE]\n",
    "    #\n",
    "    # # JSON file with city details\n",
    "    # jfile = [YOUR CODE HERE]\n",
    "    #\n",
    "    # # load city details file\n",
    "    # with open(jfile) as f:\n",
    "    #     data = json.load(f)\n",
    "    #\n",
    "    # # inspect the data object above\n",
    "    # # use for loop and if statement to find city id\n",
    "    # city_code = None\n",
    "    # [YOUR CODE HERE]\n",
    "    #\n",
    "    # # now get the weather forecast using the\n",
    "    # # \"get_weather\" function defined above\n",
    "    # weather_json = [YOUR CODE HERE]\n",
    "    #\n",
    "    # # using method for accessing a dictionary\n",
    "    # # put weather items in a list\n",
    "    # weather_items = [YOUR CODE HERE]\n",
    "    #\n",
    "    # # save into a dataframe\n",
    "    # data = []  # will hold our data\n",
    "    #\n",
    "    # for i in weather_items:\n",
    "    #     # get forecast time\n",
    "    #     ts = [YOUR CODE HERE]\n",
    "    #\n",
    "    #     # get temperature, rain and humidity\n",
    "    #     temp = [YOUR CODE HERE]\n",
    "    #     hum = [YOUR CODE HERE]\n",
    "    #\n",
    "    #     # for rains and clouds, use get() method to\n",
    "    #     # retrieve required values\n",
    "    #     rains = [YOUR CODE HERE]\n",
    "    #\n",
    "    #     clouds = [YOUR CODE HERE]\n",
    "    #\n",
    "    #     data_item = {'forecastTime': [YOUR CODE HERE], 'tempF': [YOUR CODE HERE],\n",
    "    #                  'humidity': [YOUR CODE HERE], \"rain\": [YOUR CODE HERE],\n",
    "    #                  'cloudsPercent': [YOUR CODE HERE]}\n",
    "    #\n",
    "    #     # append to list of create earlier on\n",
    "    #     [YOUR CODE HERE]\n",
    "    #\n",
    "\n",
    "    # # create dataframe\n",
    "    # [YOUR CODE HERE]\n",
    "    # \n",
    "    # # save dataframe with option index set to False\n",
    "    # [YOUR CODE HERE]"
   ]
  },
  {
   "cell_type": "markdown",
   "metadata": {},
   "source": [
    "# Pulling Data World Bank Development Indicators API\n",
    "We're using Pandas Datareader: a third-party library that makes it easy to pull data from APIs into a Pandas dataframe.\n",
    "\n",
    "Use it to pull live data from Yahoo! Finance, World Bank and others.\n",
    "\n",
    "\n",
    "| Function | Task Performed |\n",
    "|----|---|\n",
    "| wb.get_countries()  | List available countries, with their country codes, income levels etc. |\n",
    "| wb.search()  | Query the available indicators using a search term. |\n",
    "| wb.WorldBankReader()  | A class for downloading data series. |"
   ]
  },
  {
   "cell_type": "markdown",
   "metadata": {},
   "source": [
    "## Installing Pandas Datareader\n",
    "Use the terminal to install the package pandas_datareader like so: \n",
    "```pip3 install pandas_datareader```"
   ]
  },
  {
   "cell_type": "code",
   "execution_count": null,
   "metadata": {},
   "outputs": [],
   "source": [
    "# Lets import World Bank module (wb) from pandas_datareader\n",
    "from pandas_datareader import wb"
   ]
  },
  {
   "cell_type": "markdown",
   "metadata": {},
   "source": [
    "## List of Indicators\n",
    "See [here](http://datatopics.worldbank.org/world-development-indicators/themes/people.html)"
   ]
  },
  {
   "cell_type": "code",
   "execution_count": null,
   "metadata": {},
   "outputs": [],
   "source": [
    "# Find the GNI per capita indicator, get its ID number\n",
    "indicator_name = \"GNI per capita, Atlas\"\n",
    "result = wb.search(string=indicator_name, field = 'name')\n",
    "result"
   ]
  },
  {
   "cell_type": "code",
   "execution_count": null,
   "metadata": {},
   "outputs": [],
   "source": [
    "# Make a note of the indicator ID\n",
    "GNI_ID = 'NY.GNP.PCAP.CD'"
   ]
  },
  {
   "cell_type": "code",
   "execution_count": null,
   "metadata": {},
   "outputs": [],
   "source": [
    "# Get a list of countries and clean it up\n",
    "countries = wb.get_countries()\n",
    "countries.head()"
   ]
  },
  {
   "cell_type": "code",
   "execution_count": null,
   "metadata": {},
   "outputs": [],
   "source": [
    "#Select only those observations and columns we need: \n",
    "countries2 = countries[countries.incomeLevel != 'Aggregates']"
   ]
  },
  {
   "cell_type": "code",
   "execution_count": null,
   "metadata": {},
   "outputs": [],
   "source": [
    "countries3 = countries2[['name', 'iso3c','incomeLevel']]\n",
    "countries3.head()"
   ]
  },
  {
   "cell_type": "code",
   "execution_count": null,
   "metadata": {},
   "outputs": [],
   "source": [
    "OECD_founders = ['Belgium','France','Germany','Italy','Luxembourg','Netherlands','United States',\n",
    "                'Canada','Japan']\n"
   ]
  },
  {
   "cell_type": "code",
   "execution_count": null,
   "metadata": {},
   "outputs": [],
   "source": [
    "countries4 = countries3[countries3.name.isin(OECD_founders)]"
   ]
  },
  {
   "cell_type": "code",
   "execution_count": null,
   "metadata": {},
   "outputs": [],
   "source": [
    "countries4.name.unique()"
   ]
  },
  {
   "cell_type": "code",
   "execution_count": null,
   "metadata": {},
   "outputs": [],
   "source": [
    "type(countries4)"
   ]
  },
  {
   "cell_type": "code",
   "execution_count": null,
   "metadata": {},
   "outputs": [],
   "source": [
    "countries_iso = list(countries4.iso3c.values)\n",
    "countries_iso"
   ]
  },
  {
   "cell_type": "code",
   "execution_count": null,
   "metadata": {},
   "outputs": [],
   "source": [
    "# Let's plot GNI per capita since 1960 for the OECD countries\n",
    "\n",
    "\n",
    "# Create a reader object, pass it the data ID and country codes we want\n",
    "\n",
    "reader = wb.WorldBankReader(symbols=GNI_ID,\n",
    "                            countries = countries_iso,\n",
    "                            start=1960)\n",
    "GNI_capita = reader.read()\n",
    "GNI_capita.head()"
   ]
  },
  {
   "cell_type": "code",
   "execution_count": null,
   "metadata": {},
   "outputs": [],
   "source": [
    "GNI_capita = GNI_capita.unstack(level=0)[GNI_ID]\n",
    "GNI_capita.head()\n",
    "\n",
    "GNI_capita.plot(figsize=[8,6])\n",
    "plt.title('GNI per capita for OECD founders since 1960')"
   ]
  },
  {
   "cell_type": "markdown",
   "metadata": {},
   "source": [
    "# EXERCISE-2: Using WDI API\n",
    "You going to generate a table of population for each country in Africa. "
   ]
  },
  {
   "cell_type": "markdown",
   "metadata": {},
   "source": [
    "## Get indicator name and identify indicator id/code\n",
    "Use the website [here](http://datatopics.worldbank.org/world-development-indicators/themes/people.html) \n",
    "to get indicator name for total population."
   ]
  },
  {
   "cell_type": "code",
   "execution_count": null,
   "metadata": {},
   "outputs": [],
   "source": [
    "indicator_id = YOUR CODE HERE"
   ]
  },
  {
   "cell_type": "markdown",
   "metadata": {},
   "source": [
    "## Get ISO codes for African Countries\n",
    "In the data folder, there is a CSV file ```country_codes_africa.csv```. We will use pandas to read the file and extract country names and use them to generate a list of ISO codes for African countries."
   ]
  },
  {
   "cell_type": "code",
   "execution_count": null,
   "metadata": {},
   "outputs": [],
   "source": [
    "# Get ISO codes for African Countries\n",
    "iso_codes_file = YOUR CODE HERE\n",
    "\n",
    "# Read CSV into dataframe\n",
    "df_iso = YOUR CODE HERE\n",
    "\n",
    "# Check the dataframe using the head function\n",
    "\n",
    "# Put the ISO codes into a list\n",
    "countries = wb.get_countries()\n",
    "names = list(df_iso.NAME_0.values)\n",
    "afr_iso = countries.iso3c[countries.name.isin(names)]"
   ]
  },
  {
   "cell_type": "markdown",
   "metadata": {},
   "source": [
    "## Get the Population Data for  2010\n",
    "Please use the documentation for the function ```wb.WorldBankReader``` \n",
    "to understand how to use the parameters ```start``` and ```end``` to get data for 2010 only."
   ]
  },
  {
   "cell_type": "code",
   "execution_count": null,
   "metadata": {},
   "outputs": [],
   "source": [
    "reader = wb.WorldBankReader(symbols=,\n",
    "                            countries = countries_iso,\n",
    "                            start=1960)\n",
    "pop = YOUR CODE HERE\n",
    "pop = pop.reset_index()\n",
    "\n",
    "# display the first 10 rows of the dataframe\n",
    "YOUR CODE HERE\n",
    "\n",
    "# Rename the SP.POP.TOTL column. Check pandas documentation \n",
    "# to see how you can rename a column\n",
    "YOUR CODE HERE"
   ]
  },
  {
   "cell_type": "markdown",
   "metadata": {},
   "source": [
    "## Which Country Has The Largest Population in Africa? \n",
    "Please use this method ```max(list)``` to find the country with the largest population.\n",
    "**Hint:** first put the population into a list and then use the method above."
   ]
  },
  {
   "cell_type": "markdown",
   "metadata": {},
   "source": [
    "Please answer the same question above this time using a method \n",
    "provided by pandas. Check pandas documentation on how to find a maximum value for a column"
   ]
  }
 ],
 "metadata": {
  "kernelspec": {
   "display_name": "Python 3 (ipykernel)",
   "language": "python",
   "name": "python3"
  },
  "language_info": {
   "codemirror_mode": {
    "name": "ipython",
    "version": 3
   },
   "file_extension": ".py",
   "mimetype": "text/x-python",
   "name": "python",
   "nbconvert_exporter": "python",
   "pygments_lexer": "ipython3",
   "version": "3.9.7"
  },
  "toc": {
   "base_numbering": 1,
   "nav_menu": {},
   "number_sections": false,
   "sideBar": true,
   "skip_h1_title": false,
   "title_cell": "Table of Contents",
   "title_sidebar": "Contents",
   "toc_cell": false,
   "toc_position": {},
   "toc_section_display": true,
   "toc_window_display": false
  }
 },
 "nbformat": 4,
 "nbformat_minor": 2
}
