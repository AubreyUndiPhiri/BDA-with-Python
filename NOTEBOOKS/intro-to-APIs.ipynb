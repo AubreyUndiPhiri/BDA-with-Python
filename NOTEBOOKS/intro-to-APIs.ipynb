{
 "cells": [
  {
   "cell_type": "markdown",
   "metadata": {},
   "source": [
    "# Introduction to Using APIs\n",
    "\n",
    "In this notebook, we will go through a practical example of how to use Python to access an API.\n",
    "For quick demonstration of the concepts, we will use the [Open Notify API](http://open-notify.org), [openWeather](https://openweathermap.org) and [WBG](http://datatopics.worldbank.org/world-development-indicators/themes/people.html) APIs."
   ]
  },
  {
   "cell_type": "markdown",
   "metadata": {},
   "source": [
    "# Python Setup\n",
    "Lets make sure we import the required libraries"
   ]
  },
  {
   "cell_type": "code",
   "execution_count": 23,
   "metadata": {},
   "outputs": [],
   "source": [
    "import requests\n",
    "from matplotlib.pyplot import figure\n",
    "import matplotlib.pyplot as plt\n",
    "import pandas as pd\n",
    "import json"
   ]
  },
  {
   "cell_type": "markdown",
   "metadata": {},
   "source": [
    "# Accessing a Useless API Just to Learn\n",
    "The [Open Notify API](http://open-notify.org) is an open source project to provide a simple programming interface for some of NASA’s data related\n",
    "space and spacecrafts. Even though this is a toy example, the process of using APIs is similar for any \n",
    "API you will need to access in the future. For this tutorial, the task is to find the latest position of the Internation Space Station(ISS)"
   ]
  },
  {
   "cell_type": "markdown",
   "metadata": {},
   "source": [
    "## Understanding The API\n",
    "As mentioned during the introductory lecture, its important to read the API documentation \n",
    "and understand the available **endpoints**. Also, to determine the exact endpoint for the data we are interested in getting.\n",
    "- **Base URL:** For this API, the base url is: ```http://api.open-notify.org```. So, our full url which we will pass to requests will be ```base-url + endpoint```\n",
    "- **Available Endpoints/Data:** You can check [here](http://open-notify.org/Open-Notify-API/) for avaible endpoints\n",
    "- **Target Endpoint:** For our task, the endpoint is ```iss-now.json```"
   ]
  },
  {
   "cell_type": "markdown",
   "metadata": {},
   "source": [
    "## Making the Request\n",
    "Now, lets request for the data. We create a simple function which makes the requests \n",
    "and prints the status code to see if we got a good result."
   ]
  },
  {
   "cell_type": "code",
   "execution_count": 10,
   "metadata": {},
   "outputs": [],
   "source": [
    "base_url = 'http://api.open-notify.org/'"
   ]
  },
  {
   "cell_type": "code",
   "execution_count": 15,
   "metadata": {},
   "outputs": [],
   "source": [
    "# endpoint for current position of ISS\n",
    "pos_now = 'astros.json'"
   ]
  },
  {
   "cell_type": "code",
   "execution_count": 16,
   "metadata": {},
   "outputs": [
    {
     "data": {
      "text/plain": [
       "'http://api.open-notify.org/astros.json'"
      ]
     },
     "execution_count": 16,
     "metadata": {},
     "output_type": "execute_result"
    }
   ],
   "source": [
    "# Full url\n",
    "full_url = base_url + pos_now\n",
    "full_url"
   ]
  },
  {
   "cell_type": "code",
   "execution_count": 17,
   "metadata": {},
   "outputs": [],
   "source": [
    "# Make a request using requests package\n",
    "response = requests.get(full_url)"
   ]
  },
  {
   "cell_type": "code",
   "execution_count": 14,
   "metadata": {},
   "outputs": [
    {
     "name": "stdout",
     "output_type": "stream",
     "text": [
      "404\n"
     ]
    }
   ],
   "source": [
    "if response.status_code == 200:\n",
    "    print('Everything is good, continue with data exctraction')\n",
    "else:\n",
    "    code = response.status_code\n",
    "    print(code)"
   ]
  },
  {
   "cell_type": "code",
   "execution_count": 8,
   "metadata": {},
   "outputs": [
    {
     "data": {
      "text/plain": [
       "10"
      ]
     },
     "execution_count": 8,
     "metadata": {},
     "output_type": "execute_result"
    }
   ],
   "source": [
    "response.json()['number']"
   ]
  },
  {
   "cell_type": "markdown",
   "metadata": {},
   "source": [
    "## Use json() to retrieve the json object/data"
   ]
  },
  {
   "cell_type": "code",
   "execution_count": 18,
   "metadata": {},
   "outputs": [
    {
     "name": "stdout",
     "output_type": "stream",
     "text": [
      "{'message': 'success', 'people': [{'name': 'Sergey Prokopyev', 'craft': 'ISS'}, {'name': 'Dmitry Petelin', 'craft': 'ISS'}, {'name': 'Frank Rubio', 'craft': 'ISS'}, {'name': 'Nicole Mann', 'craft': 'ISS'}, {'name': 'Josh Cassada', 'craft': 'ISS'}, {'name': 'Koichi Wakata', 'craft': 'ISS'}, {'name': 'Anna Kikina', 'craft': 'ISS'}, {'name': 'Fei Junlong', 'craft': 'Shenzhou 15'}, {'name': 'Deng Qingming', 'craft': 'Shenzhou 15'}, {'name': 'Zhang Lu', 'craft': 'Shenzhou 15'}], 'number': 10}\n"
     ]
    }
   ],
   "source": [
    "# Get the data\n",
    "dict_obj_from_json = response.json()\n",
    "type(dict_obj_from_json)\n",
    "print(dict_obj_from_json)"
   ]
  },
  {
   "cell_type": "code",
   "execution_count": 11,
   "metadata": {},
   "outputs": [
    {
     "data": {
      "text/plain": [
       "{'latitude': '22.9547', 'longitude': '97.6678'}"
      ]
     },
     "execution_count": 11,
     "metadata": {},
     "output_type": "execute_result"
    }
   ],
   "source": [
    "geo_info = dict_obj_from_json['iss_position']\n",
    "geo_info"
   ]
  },
  {
   "cell_type": "code",
   "execution_count": 9,
   "metadata": {},
   "outputs": [
    {
     "name": "stdout",
     "output_type": "stream",
     "text": [
      "-33.2471\n",
      "-32.8984\n"
     ]
    }
   ],
   "source": [
    "lon = geo_info['longitude']\n",
    "print(lon)\n",
    "lat = geo_info['latitude']\n",
    "print(lat)"
   ]
  },
  {
   "cell_type": "code",
   "execution_count": 10,
   "metadata": {},
   "outputs": [
    {
     "name": "stdout",
     "output_type": "stream",
     "text": [
      "-32.8984 -- -33.2471\n"
     ]
    }
   ],
   "source": [
    "geo_info = dict_obj_from_json['iss_position']\n",
    "lon = geo_info['longitude']\n",
    "lat = geo_info['latitude']\n",
    "print(lat,'--', lon)"
   ]
  },
  {
   "cell_type": "code",
   "execution_count": 11,
   "metadata": {},
   "outputs": [
    {
     "ename": "SyntaxError",
     "evalue": "invalid syntax (580404902.py, line 3)",
     "output_type": "error",
     "traceback": [
      "\u001b[0;36m  File \u001b[0;32m\"/var/folders/w3/dfvgjkh10wz8t573m_c20xf00000gp/T/ipykernel_43764/580404902.py\"\u001b[0;36m, line \u001b[0;32m3\u001b[0m\n\u001b[0;31m    pos_now =\u001b[0m\n\u001b[0m              ^\u001b[0m\n\u001b[0;31mSyntaxError\u001b[0m\u001b[0;31m:\u001b[0m invalid syntax\n"
     ]
    }
   ],
   "source": [
    "base_url = 'http://api.open-notify.org/'\n",
    "#endpoint for current position of ISS\n",
    "pos_now = \n",
    "# Full url\n",
    "full_url = base_url + pos_now\n",
    "\n",
    "\n",
    "# Make a request using requests package\n",
    "r = requests.get(full_url)\n",
    "\n",
    "# Get the data\n",
    "dict_obj_from_json = r.json()\n",
    "\n",
    "# Extract Lat/Lon\n",
    "geo_info = dict_obj_from_json['iss_position']\n",
    "lon = geo_info['longitude']\n",
    "lat = geo_info['latitude']\n",
    "print(lat,'--', lon)"
   ]
  },
  {
   "cell_type": "code",
   "execution_count": null,
   "metadata": {
    "code_folding": [
     0
    ]
   },
   "outputs": [],
   "source": [
    "def request_iss_position(endpoint_url=None):\n",
    "    # Make a get request \n",
    "    response = requests.get(endpoint_url)\n",
    "\n",
    "    # Print the status code of the response.\n",
    "    status_code = response.status_code\n",
    "    if status_code == 200:\n",
    "        print('Hooray!!, it worked')\n",
    "        \n",
    "        # access the returned data\n",
    "        dict_obj_from_json = response.json()\n",
    "        print('Type: {}'.format(type(dict_obj_from_json)))\n",
    "        print('This is the nested dictionary returned: \\n {}'.format(dict_obj_from_json))\n",
    "        lat = dict_obj_from_json['iss_position']['latitude']\n",
    "        lon = dict_obj_from_json['iss_position']['longitude']\n",
    "        print('ISS is passing on Lat: {}, and Lon: {} right about now'.format(lat, lon))\n",
    "    else:\n",
    "        print('What happened, lets see the code we got: {}'.format(status_code))"
   ]
  },
  {
   "cell_type": "code",
   "execution_count": null,
   "metadata": {},
   "outputs": [],
   "source": [
    "base_url = 'http://api.open-notify.org/'\n",
    "iss_pos = base_url + 'iss-now.json'\n",
    "request_iss_position(endpoint_url=iss_pos)"
   ]
  },
  {
   "cell_type": "code",
   "execution_count": null,
   "metadata": {},
   "outputs": [],
   "source": [
    "# Now, try to enter a wrong endpoint and see what happens\n",
    "iss_pos2 = base_url + 'iss-today.json'\n",
    "request_iss_position(endpoint_url=iss_pos2)"
   ]
  },
  {
   "cell_type": "markdown",
   "metadata": {},
   "source": [
    "# Accessing the Data\n",
    "Now, lets change our function so that we print the Latitude and Longitude of where ISS is right now."
   ]
  },
  {
   "cell_type": "code",
   "execution_count": null,
   "metadata": {},
   "outputs": [],
   "source": [
    "request_iss_position(endpoint_url=iss_pos)"
   ]
  },
  {
   "cell_type": "markdown",
   "metadata": {},
   "source": [
    "# EXERCISE-1:\n",
    "Using the same API, check how many Astronouts are in space right now?"
   ]
  },
  {
   "cell_type": "code",
   "execution_count": null,
   "metadata": {
    "code_folding": [
     0
    ]
   },
   "outputs": [],
   "source": [
    "# base-url is same as above\n",
    "# end point for this data: please check documentation\n",
    "num_astros = YOUR CODE\n",
    "\n",
    "# full_url number of astronouts\n",
    "num_astros_url = YOUR CODE\n",
    "\n",
    "# Make request\n",
    "response = YOUR CODE\n",
    "\n",
    "# Get data if response is 200\n",
    "if response.status_code == 200:\n",
    "    # Extract the dict object from the JSON response\n",
    "    res = response.json()\n",
    "    \n",
    "    # please print the dict object above so you can inspect it and see how to retrieve the required data\n",
    "    print(res)\n",
    "    \n",
    "    # Get the number of people in spacw\n",
    "    YOUR CODE\n",
    "    \n",
    "    # print number of people\n",
    "    YOUR CODE"
   ]
  },
  {
   "cell_type": "markdown",
   "metadata": {},
   "source": [
    "# Accessing  the Open Weather API\n",
    "You can read all about it [here](https://openweathermap.org) but basically, they provide weather data for cities across  the world."
   ]
  },
  {
   "cell_type": "code",
   "execution_count": 21,
   "metadata": {
    "code_folding": [
     0
    ]
   },
   "outputs": [],
   "source": [
    "def get_weather(base_url, api_key=None, city_id=None):\n",
    "    \"\"\"\n",
    "    Returns weather\n",
    "    :param api_key:\n",
    "    :param city_name:\n",
    "    :return:\n",
    "    \"\"\"\n",
    "    # add your API key\n",
    "    url = \"{}{}&APPID={}\".format(base_url, city_id, api_key)\n",
    "\n",
    "    # use requests to retrieve data from the API\n",
    "    response = requests.get(url)\n",
    "\n",
    "    # retrieve JSON from the response object\n",
    "    json_obj = response.json()\n",
    "\n",
    "    # return the JSON object\n",
    "    return json_obj"
   ]
  },
  {
   "cell_type": "code",
   "execution_count": 26,
   "metadata": {},
   "outputs": [],
   "source": [
    "def get_city_id(city_name=None, city_list_json_file=None):\n",
    "    \"\"\"\n",
    "    Since its easier to use city_id rather than name, we extract\n",
    "    city_id using giveen city name\n",
    "    \"\"\"\n",
    "\n",
    "    fopen = open(city_list_json_file, encoding=\"utf8\")\n",
    "    city_list = json.load(fopen)\n",
    "    \n",
    "    for c in city_list:\n",
    "        if c['name'].lower() == city_name.lower():\n",
    "            city_id = c['id'] \n",
    "            print(city_id)\n",
    "    return city_id"
   ]
  },
  {
   "cell_type": "code",
   "execution_count": 24,
   "metadata": {},
   "outputs": [
    {
     "name": "stdout",
     "output_type": "stream",
     "text": [
      "927967\n"
     ]
    }
   ],
   "source": [
    "# Got this base_url from the open-weather API docs\n",
    "base_url = \"http://api.openweathermap.org/data/2.5/forecast?id=\"\n",
    "\n",
    "# REPLACE WITH YOUR OWN OR YOU CAN USE MINE\n",
    "API_KEY = 'cd689df7ce5a01db2aafde528e3d87c4'\n",
    "\n",
    "# cityt_list json file, please replace with path to file\n",
    "# hopefully you have this file\n",
    "city_list_file = \"/Users/dmatekenya/Downloads/city.list.json\"\n",
    "\n",
    "city_id = get_city_id(city_name=\"Lilongwe\", \n",
    "                      city_list_json_file=city_list_file)\n",
    "\n",
    "# Now you can call the function to get data from the API\n",
    "LL_weather = get_weather(base_url=base_url, api_key=API_KEY,\n",
    "                           city_id=city_id)"
   ]
  },
  {
   "cell_type": "markdown",
   "metadata": {},
   "source": [
    "When we access API's, its often a data colleciton exercise:\n",
    "1. Ensure you read the API docs and understand how to make an API call\n",
    "2. Once you have all the required parameters (e.g., city_id and API key \n",
    "                                              to make API call), \n",
    "make the call usingn requests\n",
    "3. Check if you have the data, retrieve JSON object\n",
    "4. Retrieve data/pull data ito dataframe\n",
    "5. Save to file/database"
   ]
  },
  {
   "cell_type": "code",
   "execution_count": 34,
   "metadata": {},
   "outputs": [
    {
     "data": {
      "text/html": [
       "<div>\n",
       "<style scoped>\n",
       "    .dataframe tbody tr th:only-of-type {\n",
       "        vertical-align: middle;\n",
       "    }\n",
       "\n",
       "    .dataframe tbody tr th {\n",
       "        vertical-align: top;\n",
       "    }\n",
       "\n",
       "    .dataframe thead th {\n",
       "        text-align: right;\n",
       "    }\n",
       "</style>\n",
       "<table border=\"1\" class=\"dataframe\">\n",
       "  <thead>\n",
       "    <tr style=\"text-align: right;\">\n",
       "      <th></th>\n",
       "      <th>temp_min</th>\n",
       "      <th>temp_max</th>\n",
       "      <th>date</th>\n",
       "    </tr>\n",
       "  </thead>\n",
       "  <tbody>\n",
       "    <tr>\n",
       "      <th>0</th>\n",
       "      <td>297.74</td>\n",
       "      <td>300.26</td>\n",
       "      <td>2023-02-02 12:00:00</td>\n",
       "    </tr>\n",
       "    <tr>\n",
       "      <th>1</th>\n",
       "      <td>296.06</td>\n",
       "      <td>298.86</td>\n",
       "      <td>2023-02-02 15:00:00</td>\n",
       "    </tr>\n",
       "    <tr>\n",
       "      <th>2</th>\n",
       "      <td>292.82</td>\n",
       "      <td>295.30</td>\n",
       "      <td>2023-02-02 18:00:00</td>\n",
       "    </tr>\n",
       "    <tr>\n",
       "      <th>3</th>\n",
       "      <td>291.58</td>\n",
       "      <td>291.58</td>\n",
       "      <td>2023-02-02 21:00:00</td>\n",
       "    </tr>\n",
       "    <tr>\n",
       "      <th>4</th>\n",
       "      <td>291.42</td>\n",
       "      <td>291.42</td>\n",
       "      <td>2023-02-03 00:00:00</td>\n",
       "    </tr>\n",
       "    <tr>\n",
       "      <th>5</th>\n",
       "      <td>291.06</td>\n",
       "      <td>291.06</td>\n",
       "      <td>2023-02-03 03:00:00</td>\n",
       "    </tr>\n",
       "    <tr>\n",
       "      <th>6</th>\n",
       "      <td>293.67</td>\n",
       "      <td>293.67</td>\n",
       "      <td>2023-02-03 06:00:00</td>\n",
       "    </tr>\n",
       "    <tr>\n",
       "      <th>7</th>\n",
       "      <td>297.27</td>\n",
       "      <td>297.27</td>\n",
       "      <td>2023-02-03 09:00:00</td>\n",
       "    </tr>\n",
       "    <tr>\n",
       "      <th>8</th>\n",
       "      <td>297.44</td>\n",
       "      <td>297.44</td>\n",
       "      <td>2023-02-03 12:00:00</td>\n",
       "    </tr>\n",
       "    <tr>\n",
       "      <th>9</th>\n",
       "      <td>295.76</td>\n",
       "      <td>295.76</td>\n",
       "      <td>2023-02-03 15:00:00</td>\n",
       "    </tr>\n",
       "    <tr>\n",
       "      <th>10</th>\n",
       "      <td>293.24</td>\n",
       "      <td>293.24</td>\n",
       "      <td>2023-02-03 18:00:00</td>\n",
       "    </tr>\n",
       "    <tr>\n",
       "      <th>11</th>\n",
       "      <td>291.87</td>\n",
       "      <td>291.87</td>\n",
       "      <td>2023-02-03 21:00:00</td>\n",
       "    </tr>\n",
       "    <tr>\n",
       "      <th>12</th>\n",
       "      <td>291.23</td>\n",
       "      <td>291.23</td>\n",
       "      <td>2023-02-04 00:00:00</td>\n",
       "    </tr>\n",
       "    <tr>\n",
       "      <th>13</th>\n",
       "      <td>290.79</td>\n",
       "      <td>290.79</td>\n",
       "      <td>2023-02-04 03:00:00</td>\n",
       "    </tr>\n",
       "    <tr>\n",
       "      <th>14</th>\n",
       "      <td>293.54</td>\n",
       "      <td>293.54</td>\n",
       "      <td>2023-02-04 06:00:00</td>\n",
       "    </tr>\n",
       "    <tr>\n",
       "      <th>15</th>\n",
       "      <td>297.56</td>\n",
       "      <td>297.56</td>\n",
       "      <td>2023-02-04 09:00:00</td>\n",
       "    </tr>\n",
       "    <tr>\n",
       "      <th>16</th>\n",
       "      <td>298.50</td>\n",
       "      <td>298.50</td>\n",
       "      <td>2023-02-04 12:00:00</td>\n",
       "    </tr>\n",
       "    <tr>\n",
       "      <th>17</th>\n",
       "      <td>296.85</td>\n",
       "      <td>296.85</td>\n",
       "      <td>2023-02-04 15:00:00</td>\n",
       "    </tr>\n",
       "    <tr>\n",
       "      <th>18</th>\n",
       "      <td>293.40</td>\n",
       "      <td>293.40</td>\n",
       "      <td>2023-02-04 18:00:00</td>\n",
       "    </tr>\n",
       "    <tr>\n",
       "      <th>19</th>\n",
       "      <td>291.48</td>\n",
       "      <td>291.48</td>\n",
       "      <td>2023-02-04 21:00:00</td>\n",
       "    </tr>\n",
       "    <tr>\n",
       "      <th>20</th>\n",
       "      <td>291.55</td>\n",
       "      <td>291.55</td>\n",
       "      <td>2023-02-05 00:00:00</td>\n",
       "    </tr>\n",
       "    <tr>\n",
       "      <th>21</th>\n",
       "      <td>291.42</td>\n",
       "      <td>291.42</td>\n",
       "      <td>2023-02-05 03:00:00</td>\n",
       "    </tr>\n",
       "    <tr>\n",
       "      <th>22</th>\n",
       "      <td>294.43</td>\n",
       "      <td>294.43</td>\n",
       "      <td>2023-02-05 06:00:00</td>\n",
       "    </tr>\n",
       "    <tr>\n",
       "      <th>23</th>\n",
       "      <td>298.02</td>\n",
       "      <td>298.02</td>\n",
       "      <td>2023-02-05 09:00:00</td>\n",
       "    </tr>\n",
       "    <tr>\n",
       "      <th>24</th>\n",
       "      <td>299.92</td>\n",
       "      <td>299.92</td>\n",
       "      <td>2023-02-05 12:00:00</td>\n",
       "    </tr>\n",
       "    <tr>\n",
       "      <th>25</th>\n",
       "      <td>296.85</td>\n",
       "      <td>296.85</td>\n",
       "      <td>2023-02-05 15:00:00</td>\n",
       "    </tr>\n",
       "    <tr>\n",
       "      <th>26</th>\n",
       "      <td>293.11</td>\n",
       "      <td>293.11</td>\n",
       "      <td>2023-02-05 18:00:00</td>\n",
       "    </tr>\n",
       "    <tr>\n",
       "      <th>27</th>\n",
       "      <td>291.73</td>\n",
       "      <td>291.73</td>\n",
       "      <td>2023-02-05 21:00:00</td>\n",
       "    </tr>\n",
       "    <tr>\n",
       "      <th>28</th>\n",
       "      <td>290.95</td>\n",
       "      <td>290.95</td>\n",
       "      <td>2023-02-06 00:00:00</td>\n",
       "    </tr>\n",
       "    <tr>\n",
       "      <th>29</th>\n",
       "      <td>290.37</td>\n",
       "      <td>290.37</td>\n",
       "      <td>2023-02-06 03:00:00</td>\n",
       "    </tr>\n",
       "    <tr>\n",
       "      <th>30</th>\n",
       "      <td>293.89</td>\n",
       "      <td>293.89</td>\n",
       "      <td>2023-02-06 06:00:00</td>\n",
       "    </tr>\n",
       "    <tr>\n",
       "      <th>31</th>\n",
       "      <td>296.72</td>\n",
       "      <td>296.72</td>\n",
       "      <td>2023-02-06 09:00:00</td>\n",
       "    </tr>\n",
       "    <tr>\n",
       "      <th>32</th>\n",
       "      <td>296.83</td>\n",
       "      <td>296.83</td>\n",
       "      <td>2023-02-06 12:00:00</td>\n",
       "    </tr>\n",
       "    <tr>\n",
       "      <th>33</th>\n",
       "      <td>294.49</td>\n",
       "      <td>294.49</td>\n",
       "      <td>2023-02-06 15:00:00</td>\n",
       "    </tr>\n",
       "    <tr>\n",
       "      <th>34</th>\n",
       "      <td>291.86</td>\n",
       "      <td>291.86</td>\n",
       "      <td>2023-02-06 18:00:00</td>\n",
       "    </tr>\n",
       "    <tr>\n",
       "      <th>35</th>\n",
       "      <td>291.26</td>\n",
       "      <td>291.26</td>\n",
       "      <td>2023-02-06 21:00:00</td>\n",
       "    </tr>\n",
       "    <tr>\n",
       "      <th>36</th>\n",
       "      <td>290.67</td>\n",
       "      <td>290.67</td>\n",
       "      <td>2023-02-07 00:00:00</td>\n",
       "    </tr>\n",
       "    <tr>\n",
       "      <th>37</th>\n",
       "      <td>290.23</td>\n",
       "      <td>290.23</td>\n",
       "      <td>2023-02-07 03:00:00</td>\n",
       "    </tr>\n",
       "    <tr>\n",
       "      <th>38</th>\n",
       "      <td>293.83</td>\n",
       "      <td>293.83</td>\n",
       "      <td>2023-02-07 06:00:00</td>\n",
       "    </tr>\n",
       "    <tr>\n",
       "      <th>39</th>\n",
       "      <td>297.45</td>\n",
       "      <td>297.45</td>\n",
       "      <td>2023-02-07 09:00:00</td>\n",
       "    </tr>\n",
       "  </tbody>\n",
       "</table>\n",
       "</div>"
      ],
      "text/plain": [
       "    temp_min  temp_max                 date\n",
       "0     297.74    300.26  2023-02-02 12:00:00\n",
       "1     296.06    298.86  2023-02-02 15:00:00\n",
       "2     292.82    295.30  2023-02-02 18:00:00\n",
       "3     291.58    291.58  2023-02-02 21:00:00\n",
       "4     291.42    291.42  2023-02-03 00:00:00\n",
       "5     291.06    291.06  2023-02-03 03:00:00\n",
       "6     293.67    293.67  2023-02-03 06:00:00\n",
       "7     297.27    297.27  2023-02-03 09:00:00\n",
       "8     297.44    297.44  2023-02-03 12:00:00\n",
       "9     295.76    295.76  2023-02-03 15:00:00\n",
       "10    293.24    293.24  2023-02-03 18:00:00\n",
       "11    291.87    291.87  2023-02-03 21:00:00\n",
       "12    291.23    291.23  2023-02-04 00:00:00\n",
       "13    290.79    290.79  2023-02-04 03:00:00\n",
       "14    293.54    293.54  2023-02-04 06:00:00\n",
       "15    297.56    297.56  2023-02-04 09:00:00\n",
       "16    298.50    298.50  2023-02-04 12:00:00\n",
       "17    296.85    296.85  2023-02-04 15:00:00\n",
       "18    293.40    293.40  2023-02-04 18:00:00\n",
       "19    291.48    291.48  2023-02-04 21:00:00\n",
       "20    291.55    291.55  2023-02-05 00:00:00\n",
       "21    291.42    291.42  2023-02-05 03:00:00\n",
       "22    294.43    294.43  2023-02-05 06:00:00\n",
       "23    298.02    298.02  2023-02-05 09:00:00\n",
       "24    299.92    299.92  2023-02-05 12:00:00\n",
       "25    296.85    296.85  2023-02-05 15:00:00\n",
       "26    293.11    293.11  2023-02-05 18:00:00\n",
       "27    291.73    291.73  2023-02-05 21:00:00\n",
       "28    290.95    290.95  2023-02-06 00:00:00\n",
       "29    290.37    290.37  2023-02-06 03:00:00\n",
       "30    293.89    293.89  2023-02-06 06:00:00\n",
       "31    296.72    296.72  2023-02-06 09:00:00\n",
       "32    296.83    296.83  2023-02-06 12:00:00\n",
       "33    294.49    294.49  2023-02-06 15:00:00\n",
       "34    291.86    291.86  2023-02-06 18:00:00\n",
       "35    291.26    291.26  2023-02-06 21:00:00\n",
       "36    290.67    290.67  2023-02-07 00:00:00\n",
       "37    290.23    290.23  2023-02-07 03:00:00\n",
       "38    293.83    293.83  2023-02-07 06:00:00\n",
       "39    297.45    297.45  2023-02-07 09:00:00"
      ]
     },
     "execution_count": 34,
     "metadata": {},
     "output_type": "execute_result"
    }
   ],
   "source": [
    "# PUT DATA INTO DATAFRAME\n",
    "data_dict = LL_weather['list']\n",
    "\n",
    "data_items = []\n",
    "\n",
    "for i in data_dict:\n",
    "    temp_min = i['main']['temp_min']\n",
    "    temp_max = i['main']['temp_max']\n",
    "    date = i['dt_txt']\n",
    "    item = {'temp_min': temp_min, 'temp_max': temp_max, 'date': date}\n",
    "    data_items.append(item)\n",
    "df = pd.DataFrame(data_items)\n",
    "df"
   ]
  },
  {
   "cell_type": "code",
   "execution_count": 33,
   "metadata": {},
   "outputs": [
    {
     "data": {
      "text/plain": [
       "{'dt': 1675339200,\n",
       " 'main': {'temp': 300.26,\n",
       "  'feels_like': 301.45,\n",
       "  'temp_min': 297.74,\n",
       "  'temp_max': 300.26,\n",
       "  'pressure': 1017,\n",
       "  'sea_level': 1017,\n",
       "  'grnd_level': 898,\n",
       "  'humidity': 61,\n",
       "  'temp_kf': 2.52},\n",
       " 'weather': [{'id': 500,\n",
       "   'main': 'Rain',\n",
       "   'description': 'light rain',\n",
       "   'icon': '10d'}],\n",
       " 'clouds': {'all': 40},\n",
       " 'wind': {'speed': 2.92, 'deg': 82, 'gust': 2.47},\n",
       " 'visibility': 10000,\n",
       " 'pop': 0.99,\n",
       " 'rain': {'3h': 1.87},\n",
       " 'sys': {'pod': 'd'},\n",
       " 'dt_txt': '2023-02-02 12:00:00'}"
      ]
     },
     "execution_count": 33,
     "metadata": {},
     "output_type": "execute_result"
    }
   ],
   "source": [
    "data_dict[0]"
   ]
  },
  {
   "cell_type": "markdown",
   "metadata": {},
   "source": [
    "## EXERCISE-2: Save weather data into a CSV"
   ]
  },
  {
   "cell_type": "code",
   "execution_count": 14,
   "metadata": {
    "code_folding": [
     0
    ]
   },
   "outputs": [
    {
     "data": {
      "text/plain": [
       "dict_keys(['cod', 'message', 'cnt', 'list', 'city'])"
      ]
     },
     "execution_count": 14,
     "metadata": {},
     "output_type": "execute_result"
    }
   ],
   "source": [
    "def compile_weather_forecast(city_name=None, output_csv_file=None):\n",
    "    \"\"\"\n",
    "    Get weather forecasts for Dakar. Please get only TEMPERATURE and HUMIDITY\n",
    "    Useful Info:\n",
    "    city_details_file: day2-python-for-data-science/data/city.list.json\n",
    "    :param your_api_key:\n",
    "    :param output_csv_file:\n",
    "    :return:\n",
    "    \"\"\"\n",
    "    # # copy and paste your API key below\n",
    "    # API_KEY = [YOUR CODE HERE]\n",
    "    #\n",
    "    # # JSON file with city details\n",
    "    # jfile = [YOUR CODE HERE]\n",
    "    #\n",
    "    # # load city details file\n",
    "    # with open(jfile) as f:\n",
    "    #     data = json.load(f)\n",
    "    #\n",
    "    # # inspect the data object above\n",
    "    # # use for loop and if statement to find city id\n",
    "    # city_code = None\n",
    "    # [YOUR CODE HERE]\n",
    "    #\n",
    "    # # now get the weather forecast using the\n",
    "    # # \"get_weather\" function defined above\n",
    "    # weather_json = [YOUR CODE HERE]\n",
    "    #\n",
    "    # # using method for accessing a dictionary\n",
    "    # # put weather items in a list\n",
    "    # weather_items = [YOUR CODE HERE]\n",
    "    #\n",
    "    # # save into a dataframe\n",
    "    # data = []  # will hold our data\n",
    "    #\n",
    "    # for i in weather_items:\n",
    "    #     # get forecast time\n",
    "    #     ts = [YOUR CODE HERE]\n",
    "    #\n",
    "    #     # get temperature, rain and humidity\n",
    "    #     temp = [YOUR CODE HERE]\n",
    "    #     hum = [YOUR CODE HERE]\n",
    "    #\n",
    "    #     # for rains and clouds, use get() method to\n",
    "    #     # retrieve required values\n",
    "    #     rains = [YOUR CODE HERE]\n",
    "    #\n",
    "    #     clouds = [YOUR CODE HERE]\n",
    "    #\n",
    "    #     data_item = {'forecastTime': [YOUR CODE HERE], 'tempF': [YOUR CODE HERE],\n",
    "    #                  'humidity': [YOUR CODE HERE], \"rain\": [YOUR CODE HERE],\n",
    "    #                  'cloudsPercent': [YOUR CODE HERE]}\n",
    "    #\n",
    "    #     # append to list of create earlier on\n",
    "    #     [YOUR CODE HERE]\n",
    "    #\n",
    "\n",
    "    # # create dataframe\n",
    "    # [YOUR CODE HERE]\n",
    "    # \n",
    "    # # save dataframe with option index set to False\n",
    "    # [YOUR CODE HERE]"
   ]
  },
  {
   "cell_type": "markdown",
   "metadata": {},
   "source": [
    "# Pulling Data World Bank Development Indicators API\n",
    "We're using Pandas Datareader: a third-party library that makes it easy to pull data from APIs into a Pandas dataframe.\n",
    "\n",
    "Use it to pull live data from Yahoo! Finance, World Bank and others.\n",
    "\n",
    "\n",
    "| Function | Task Performed |\n",
    "|----|---|\n",
    "| wb.get_countries()  | List available countries, with their country codes, income levels etc. |\n",
    "| wb.search()  | Query the available indicators using a search term. |\n",
    "| wb.WorldBankReader()  | A class for downloading data series. |"
   ]
  },
  {
   "cell_type": "markdown",
   "metadata": {},
   "source": [
    "## Installing Pandas Datareader\n",
    "Use the terminal to install the package pandas_datareader like so: \n",
    "```pip3 install pandas_datareader```"
   ]
  },
  {
   "cell_type": "code",
   "execution_count": null,
   "metadata": {},
   "outputs": [],
   "source": [
    "# Lets import World Bank module (wb) from pandas_datareader\n",
    "from pandas_datareader import wb"
   ]
  },
  {
   "cell_type": "markdown",
   "metadata": {},
   "source": [
    "## List of Indicators\n",
    "See [here](http://datatopics.worldbank.org/world-development-indicators/themes/people.html)"
   ]
  },
  {
   "cell_type": "code",
   "execution_count": null,
   "metadata": {},
   "outputs": [],
   "source": [
    "# Find the GNI per capita indicator, get its ID number\n",
    "indicator_name = \"GNI per capita, Atlas\"\n",
    "result = wb.search(string=indicator_name, field = 'name')\n",
    "result"
   ]
  },
  {
   "cell_type": "code",
   "execution_count": null,
   "metadata": {},
   "outputs": [],
   "source": [
    "# Make a note of the indicator ID\n",
    "GNI_ID = 'NY.GNP.PCAP.CD'"
   ]
  },
  {
   "cell_type": "code",
   "execution_count": null,
   "metadata": {},
   "outputs": [],
   "source": [
    "# Get a list of countries and clean it up\n",
    "countries = wb.get_countries()\n",
    "countries.head()"
   ]
  },
  {
   "cell_type": "code",
   "execution_count": null,
   "metadata": {},
   "outputs": [],
   "source": [
    "#Select only those observations and columns we need: \n",
    "countries2 = countries[countries.incomeLevel != 'Aggregates']"
   ]
  },
  {
   "cell_type": "code",
   "execution_count": null,
   "metadata": {},
   "outputs": [],
   "source": [
    "countries3 = countries2[['name', 'iso3c','incomeLevel']]\n",
    "countries3.head()"
   ]
  },
  {
   "cell_type": "code",
   "execution_count": null,
   "metadata": {},
   "outputs": [],
   "source": [
    "OECD_founders = ['Belgium','France','Germany','Italy','Luxembourg','Netherlands','United States',\n",
    "                'Canada','Japan']\n"
   ]
  },
  {
   "cell_type": "code",
   "execution_count": null,
   "metadata": {},
   "outputs": [],
   "source": [
    "countries4 = countries3[countries3.name.isin(OECD_founders)]"
   ]
  },
  {
   "cell_type": "code",
   "execution_count": null,
   "metadata": {},
   "outputs": [],
   "source": [
    "countries4.name.unique()"
   ]
  },
  {
   "cell_type": "code",
   "execution_count": null,
   "metadata": {},
   "outputs": [],
   "source": [
    "type(countries4)"
   ]
  },
  {
   "cell_type": "code",
   "execution_count": null,
   "metadata": {},
   "outputs": [],
   "source": [
    "countries_iso = list(countries4.iso3c.values)\n",
    "countries_iso"
   ]
  },
  {
   "cell_type": "code",
   "execution_count": null,
   "metadata": {},
   "outputs": [],
   "source": [
    "# Let's plot GNI per capita since 1960 for the OECD countries\n",
    "\n",
    "\n",
    "# Create a reader object, pass it the data ID and country codes we want\n",
    "\n",
    "reader = wb.WorldBankReader(symbols=GNI_ID,\n",
    "                            countries = countries_iso,\n",
    "                            start=1960)\n",
    "GNI_capita = reader.read()\n",
    "GNI_capita.head()"
   ]
  },
  {
   "cell_type": "code",
   "execution_count": null,
   "metadata": {},
   "outputs": [],
   "source": [
    "GNI_capita = GNI_capita.unstack(level=0)[GNI_ID]\n",
    "GNI_capita.head()\n",
    "\n",
    "GNI_capita.plot(figsize=[8,6])\n",
    "plt.title('GNI per capita for OECD founders since 1960')"
   ]
  },
  {
   "cell_type": "markdown",
   "metadata": {},
   "source": [
    "# EXERCISE-2: Using WDI API\n",
    "You going to generate a table of population for each country in Africa. "
   ]
  },
  {
   "cell_type": "markdown",
   "metadata": {},
   "source": [
    "## Get indicator name and identify indicator id/code\n",
    "Use the website [here](http://datatopics.worldbank.org/world-development-indicators/themes/people.html) \n",
    "to get indicator name for total population."
   ]
  },
  {
   "cell_type": "code",
   "execution_count": null,
   "metadata": {},
   "outputs": [],
   "source": [
    "indicator_id = YOUR CODE HERE"
   ]
  },
  {
   "cell_type": "markdown",
   "metadata": {},
   "source": [
    "## Get ISO codes for African Countries\n",
    "In the data folder, there is a CSV file ```country_codes_africa.csv```. We will use pandas to read the file and extract country names and use them to generate a list of ISO codes for African countries."
   ]
  },
  {
   "cell_type": "code",
   "execution_count": null,
   "metadata": {},
   "outputs": [],
   "source": [
    "# Get ISO codes for African Countries\n",
    "iso_codes_file = YOUR CODE HERE\n",
    "\n",
    "# Read CSV into dataframe\n",
    "df_iso = YOUR CODE HERE\n",
    "\n",
    "# Check the dataframe using the head function\n",
    "\n",
    "# Put the ISO codes into a list\n",
    "countries = wb.get_countries()\n",
    "names = list(df_iso.NAME_0.values)\n",
    "afr_iso = countries.iso3c[countries.name.isin(names)]"
   ]
  },
  {
   "cell_type": "markdown",
   "metadata": {},
   "source": [
    "## Get the Population Data for  2010\n",
    "Please use the documentation for the function ```wb.WorldBankReader``` \n",
    "to understand how to use the parameters ```start``` and ```end``` to get data for 2010 only."
   ]
  },
  {
   "cell_type": "code",
   "execution_count": null,
   "metadata": {},
   "outputs": [],
   "source": [
    "reader = wb.WorldBankReader(symbols=,\n",
    "                            countries = countries_iso,\n",
    "                            start=1960)\n",
    "pop = YOUR CODE HERE\n",
    "pop = pop.reset_index()\n",
    "\n",
    "# display the first 10 rows of the dataframe\n",
    "YOUR CODE HERE\n",
    "\n",
    "# Rename the SP.POP.TOTL column. Check pandas documentation \n",
    "# to see how you can rename a column\n",
    "YOUR CODE HERE"
   ]
  },
  {
   "cell_type": "markdown",
   "metadata": {},
   "source": [
    "## Which Country Has The Largest Population in Africa? \n",
    "Please use this method ```max(list)``` to find the country with the largest population.\n",
    "**Hint:** first put the population into a list and then use the method above."
   ]
  },
  {
   "cell_type": "markdown",
   "metadata": {},
   "source": [
    "Please answer the same question above this time using a method \n",
    "provided by pandas. Check pandas documentation on how to find a maximum value for a column"
   ]
  }
 ],
 "metadata": {
  "kernelspec": {
   "display_name": "Python 3 (ipykernel)",
   "language": "python",
   "name": "python3"
  },
  "language_info": {
   "codemirror_mode": {
    "name": "ipython",
    "version": 3
   },
   "file_extension": ".py",
   "mimetype": "text/x-python",
   "name": "python",
   "nbconvert_exporter": "python",
   "pygments_lexer": "ipython3",
   "version": "3.9.7"
  },
  "toc": {
   "base_numbering": 1,
   "nav_menu": {},
   "number_sections": false,
   "sideBar": true,
   "skip_h1_title": false,
   "title_cell": "Table of Contents",
   "title_sidebar": "Contents",
   "toc_cell": false,
   "toc_position": {},
   "toc_section_display": true,
   "toc_window_display": false
  }
 },
 "nbformat": 4,
 "nbformat_minor": 4
}
